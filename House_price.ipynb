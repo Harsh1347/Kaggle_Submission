{
 "cells": [
  {
   "cell_type": "code",
   "execution_count": 1,
   "metadata": {},
   "outputs": [],
   "source": [
    "import pandas as pd \n",
    "import numpy as np\n",
    "import seaborn as sns\n",
    "import matplotlib.pyplot as plt\n",
    "%config IPCompleter.greedy=True\n",
    "train_data = pd.read_csv(\"C:\\\\Users\\\\MAHE\\\\Desktop\\\\data_sets\\\\House-prices\\\\train.csv\")\n",
    "test_data = pd.read_csv(\"C:\\\\Users\\\\MAHE\\\\Desktop\\\\data_sets\\\\House-prices\\\\test.csv\")\n",
    "train_test_data = [train_data, test_data]"
   ]
  },
  {
   "cell_type": "raw",
   "metadata": {},
   "source": [
    "# MSSubClass: Identifies the type of dwelling involved in the sale.\t\n",
    "\n",
    "        20\t1-STORY 1946 & NEWER ALL STYLES\n",
    "        30\t1-STORY 1945 & OLDER\n",
    "        40\t1-STORY W/FINISHED ATTIC ALL AGES\n",
    "        45\t1-1/2 STORY - UNFINISHED ALL AGES\n",
    "        50\t1-1/2 STORY FINISHED ALL AGES\n",
    "        60\t2-STORY 1946 & NEWER\n",
    "        70\t2-STORY 1945 & OLDER\n",
    "        75\t2-1/2 STORY ALL AGES\n",
    "        80\tSPLIT OR MULTI-LEVEL\n",
    "        85\tSPLIT FOYER\n",
    "        90\tDUPLEX - ALL STYLES AND AGES\n",
    "       120\t1-STORY PUD (Planned Unit Development) - 1946 & NEWER\n",
    "       150\t1-1/2 STORY PUD - ALL AGES\n",
    "       160\t2-STORY PUD - 1946 & NEWER\n",
    "       180\tPUD - MULTILEVEL - INCL SPLIT LEV/FOYER\n",
    "       190\t2 FAMILY CONVERSION - ALL STYLES AND AGES\n",
    "\n",
    "MSZoning: Identifies the general zoning classification of the sale.\n",
    "\t\t\n",
    "       A\tAgriculture\n",
    "       C\tCommercial\n",
    "       FV\tFloating Village Residential\n",
    "       I\tIndustrial\n",
    "       RH\tResidential High Density\n",
    "       RL\tResidential Low Density\n",
    "       RP\tResidential Low Density Park \n",
    "       RM\tResidential Medium Density\n",
    "\t\n",
    "LotFrontage: Linear feet of street connected to property\n",
    "\n",
    "LotArea: Lot size in square feet\n",
    "\n",
    "Street: Type of road access to property\n",
    "\n",
    "       Grvl\tGravel\t\n",
    "       Pave\tPaved\n",
    "       \t\n",
    "Alley: Type of alley access to property\n",
    "\n",
    "       Grvl\tGravel\n",
    "       Pave\tPaved\n",
    "       NA \tNo alley access\n",
    "\t\t\n",
    "LotShape: General shape of property\n",
    "\n",
    "       Reg\tRegular\t\n",
    "       IR1\tSlightly irregular\n",
    "       IR2\tModerately Irregular\n",
    "       IR3\tIrregular\n",
    "       \n",
    "LandContour: Flatness of the property\n",
    "\n",
    "       Lvl\tNear Flat/Level\t\n",
    "       Bnk\tBanked - Quick and significant rise from street grade to building\n",
    "       HLS\tHillside - Significant slope from side to side\n",
    "       Low\tDepression\n",
    "\t\t\n",
    "Utilities: Type of utilities available\n",
    "\t\t\n",
    "       AllPub\tAll public Utilities (E,G,W,& S)\t\n",
    "       NoSewr\tElectricity, Gas, and Water (Septic Tank)\n",
    "       NoSeWa\tElectricity and Gas Only\n",
    "       ELO\tElectricity only\t\n",
    "\t\n",
    "LotConfig: Lot configuration\n",
    "\n",
    "       Inside\tInside lot\n",
    "       Corner\tCorner lot\n",
    "       CulDSac\tCul-de-sac\n",
    "       FR2\tFrontage on 2 sides of property\n",
    "       FR3\tFrontage on 3 sides of property\n",
    "\t\n",
    "LandSlope: Slope of property\n",
    "\t\t\n",
    "       Gtl\tGentle slope\n",
    "       Mod\tModerate Slope\t\n",
    "       Sev\tSevere Slope\n",
    "\t\n",
    "Neighborhood: Physical locations within Ames city limits\n",
    "\n",
    "       Blmngtn\tBloomington Heights\n",
    "       Blueste\tBluestem\n",
    "       BrDale\tBriardale\n",
    "       BrkSide\tBrookside\n",
    "       ClearCr\tClear Creek\n",
    "       CollgCr\tCollege Creek\n",
    "       Crawfor\tCrawford\n",
    "       Edwards\tEdwards\n",
    "       Gilbert\tGilbert\n",
    "       IDOTRR\tIowa DOT and Rail Road\n",
    "       MeadowV\tMeadow Village\n",
    "       Mitchel\tMitchell\n",
    "       Names\tNorth Ames\n",
    "       NoRidge\tNorthridge\n",
    "       NPkVill\tNorthpark Villa\n",
    "       NridgHt\tNorthridge Heights\n",
    "       NWAmes\tNorthwest Ames\n",
    "       OldTown\tOld Town\n",
    "       SWISU\tSouth & West of Iowa State University\n",
    "       Sawyer\tSawyer\n",
    "       SawyerW\tSawyer West\n",
    "       Somerst\tSomerset\n",
    "       StoneBr\tStone Brook\n",
    "       Timber\tTimberland\n",
    "       Veenker\tVeenker\n",
    "\t\t\t\n",
    "Condition1: Proximity to various conditions\n",
    "\t\n",
    "       Artery\tAdjacent to arterial street\n",
    "       Feedr\tAdjacent to feeder street\t\n",
    "       Norm\tNormal\t\n",
    "       RRNn\tWithin 200' of North-South Railroad\n",
    "       RRAn\tAdjacent to North-South Railroad\n",
    "       PosN\tNear positive off-site feature--park, greenbelt, etc.\n",
    "       PosA\tAdjacent to postive off-site feature\n",
    "       RRNe\tWithin 200' of East-West Railroad\n",
    "       RRAe\tAdjacent to East-West Railroad\n",
    "\t\n",
    "Condition2: Proximity to various conditions (if more than one is present)\n",
    "\t\t\n",
    "       Artery\tAdjacent to arterial street\n",
    "       Feedr\tAdjacent to feeder street\t\n",
    "       Norm\tNormal\t\n",
    "       RRNn\tWithin 200' of North-South Railroad\n",
    "       RRAn\tAdjacent to North-South Railroad\n",
    "       PosN\tNear positive off-site feature--park, greenbelt, etc.\n",
    "       PosA\tAdjacent to postive off-site feature\n",
    "       RRNe\tWithin 200' of East-West Railroad\n",
    "       RRAe\tAdjacent to East-West Railroad\n",
    "\t\n",
    "BldgType: Type of dwelling\n",
    "\t\t\n",
    "       1Fam\tSingle-family Detached\t\n",
    "       2FmCon\tTwo-family Conversion; originally built as one-family dwelling\n",
    "       Duplx\tDuplex\n",
    "       TwnhsE\tTownhouse End Unit\n",
    "       TwnhsI\tTownhouse Inside Unit\n",
    "\t\n",
    "HouseStyle: Style of dwelling\n",
    "\t\n",
    "       1Story\tOne story\n",
    "       1.5Fin\tOne and one-half story: 2nd level finished\n",
    "       1.5Unf\tOne and one-half story: 2nd level unfinished\n",
    "       2Story\tTwo story\n",
    "       2.5Fin\tTwo and one-half story: 2nd level finished\n",
    "       2.5Unf\tTwo and one-half story: 2nd level unfinished\n",
    "       SFoyer\tSplit Foyer\n",
    "       SLvl\tSplit Level\n",
    "\t\n",
    "OverallQual: Rates the overall material and finish of the house\n",
    "\n",
    "       10\tVery Excellent\n",
    "       9\tExcellent\n",
    "       8\tVery Good\n",
    "       7\tGood\n",
    "       6\tAbove Average\n",
    "       5\tAverage\n",
    "       4\tBelow Average\n",
    "       3\tFair\n",
    "       2\tPoor\n",
    "       1\tVery Poor\n",
    "\t\n",
    "OverallCond: Rates the overall condition of the house\n",
    "\n",
    "       10\tVery Excellent\n",
    "       9\tExcellent\n",
    "       8\tVery Good\n",
    "       7\tGood\n",
    "       6\tAbove Average\t\n",
    "       5\tAverage\n",
    "       4\tBelow Average\t\n",
    "       3\tFair\n",
    "       2\tPoor\n",
    "       1\tVery Poor\n",
    "\t\t\n",
    "YearBuilt: Original construction date\n",
    "\n",
    "YearRemodAdd: Remodel date (same as construction date if no remodeling or additions)\n",
    "\n",
    "RoofStyle: Type of roof\n",
    "\n",
    "       Flat\tFlat\n",
    "       Gable\tGable\n",
    "       Gambrel\tGabrel (Barn)\n",
    "       Hip\tHip\n",
    "       Mansard\tMansard\n",
    "       Shed\tShed\n",
    "\t\t\n",
    "RoofMatl: Roof material\n",
    "\n",
    "       ClyTile\tClay or Tile\n",
    "       CompShg\tStandard (Composite) Shingle\n",
    "       Membran\tMembrane\n",
    "       Metal\tMetal\n",
    "       Roll\tRoll\n",
    "       Tar&Grv\tGravel & Tar\n",
    "       WdShake\tWood Shakes\n",
    "       WdShngl\tWood Shingles\n",
    "\t\t\n",
    "Exterior1st: Exterior covering on house\n",
    "\n",
    "       AsbShng\tAsbestos Shingles\n",
    "       AsphShn\tAsphalt Shingles\n",
    "       BrkComm\tBrick Common\n",
    "       BrkFace\tBrick Face\n",
    "       CBlock\tCinder Block\n",
    "       CemntBd\tCement Board\n",
    "       HdBoard\tHard Board\n",
    "       ImStucc\tImitation Stucco\n",
    "       MetalSd\tMetal Siding\n",
    "       Other\tOther\n",
    "       Plywood\tPlywood\n",
    "       PreCast\tPreCast\t\n",
    "       Stone\tStone\n",
    "       Stucco\tStucco\n",
    "       VinylSd\tVinyl Siding\n",
    "       Wd Sdng\tWood Siding\n",
    "       WdShing\tWood Shingles\n",
    "\t\n",
    "Exterior2nd: Exterior covering on house (if more than one material)\n",
    "\n",
    "       AsbShng\tAsbestos Shingles\n",
    "       AsphShn\tAsphalt Shingles\n",
    "       BrkComm\tBrick Common\n",
    "       BrkFace\tBrick Face\n",
    "       CBlock\tCinder Block\n",
    "       CemntBd\tCement Board\n",
    "       HdBoard\tHard Board\n",
    "       ImStucc\tImitation Stucco\n",
    "       MetalSd\tMetal Siding\n",
    "       Other\tOther\n",
    "       Plywood\tPlywood\n",
    "       PreCast\tPreCast\n",
    "       Stone\tStone\n",
    "       Stucco\tStucco\n",
    "       VinylSd\tVinyl Siding\n",
    "       Wd Sdng\tWood Siding\n",
    "       WdShing\tWood Shingles\n",
    "\t\n",
    "MasVnrType: Masonry veneer type\n",
    "\n",
    "       BrkCmn\tBrick Common\n",
    "       BrkFace\tBrick Face\n",
    "       CBlock\tCinder Block\n",
    "       None\tNone\n",
    "       Stone\tStone\n",
    "\t\n",
    "MasVnrArea: Masonry veneer area in square feet\n",
    "\n",
    "ExterQual: Evaluates the quality of the material on the exterior \n",
    "\t\t\n",
    "       Ex\tExcellent\n",
    "       Gd\tGood\n",
    "       TA\tAverage/Typical\n",
    "       Fa\tFair\n",
    "       Po\tPoor\n",
    "\t\t\n",
    "ExterCond: Evaluates the present condition of the material on the exterior\n",
    "\t\t\n",
    "       Ex\tExcellent\n",
    "       Gd\tGood\n",
    "       TA\tAverage/Typical\n",
    "       Fa\tFair\n",
    "       Po\tPoor\n",
    "\t\t\n",
    "Foundation: Type of foundation\n",
    "\t\t\n",
    "       BrkTil\tBrick & Tile\n",
    "       CBlock\tCinder Block\n",
    "       PConc\tPoured Contrete\t\n",
    "       Slab\tSlab\n",
    "       Stone\tStone\n",
    "       Wood\tWood\n",
    "\t\t\n",
    "BsmtQual: Evaluates the height of the basement\n",
    "\n",
    "       Ex\tExcellent (100+ inches)\t\n",
    "       Gd\tGood (90-99 inches)\n",
    "       TA\tTypical (80-89 inches)\n",
    "       Fa\tFair (70-79 inches)\n",
    "       Po\tPoor (<70 inches\n",
    "       NA\tNo Basement\n",
    "\t\t\n",
    "BsmtCond: Evaluates the general condition of the basement\n",
    "\n",
    "       Ex\tExcellent\n",
    "       Gd\tGood\n",
    "       TA\tTypical - slight dampness allowed\n",
    "       Fa\tFair - dampness or some cracking or settling\n",
    "       Po\tPoor - Severe cracking, settling, or wetness\n",
    "       NA\tNo Basement\n",
    "\t\n",
    "BsmtExposure: Refers to walkout or garden level walls\n",
    "\n",
    "       Gd\tGood Exposure\n",
    "       Av\tAverage Exposure (split levels or foyers typically score average or above)\t\n",
    "       Mn\tMimimum Exposure\n",
    "       No\tNo Exposure\n",
    "       NA\tNo Basement\n",
    "\t\n",
    "BsmtFinType1: Rating of basement finished area\n",
    "\n",
    "       GLQ\tGood Living Quarters\n",
    "       ALQ\tAverage Living Quarters\n",
    "       BLQ\tBelow Average Living Quarters\t\n",
    "       Rec\tAverage Rec Room\n",
    "       LwQ\tLow Quality\n",
    "       Unf\tUnfinshed\n",
    "       NA\tNo Basement\n",
    "\t\t\n",
    "BsmtFinSF1: Type 1 finished square feet\n",
    "\n",
    "BsmtFinType2: Rating of basement finished area (if multiple types)\n",
    "\n",
    "       GLQ\tGood Living Quarters\n",
    "       ALQ\tAverage Living Quarters\n",
    "       BLQ\tBelow Average Living Quarters\t\n",
    "       Rec\tAverage Rec Room\n",
    "       LwQ\tLow Quality\n",
    "       Unf\tUnfinshed\n",
    "       NA\tNo Basement\n",
    "\n",
    "BsmtFinSF2: Type 2 finished square feet\n",
    "\n",
    "BsmtUnfSF: Unfinished square feet of basement area\n",
    "\n",
    "TotalBsmtSF: Total square feet of basement area\n",
    "\n",
    "Heating: Type of heating\n",
    "\t\t\n",
    "       Floor\tFloor Furnace\n",
    "       GasA\tGas forced warm air furnace\n",
    "       GasW\tGas hot water or steam heat\n",
    "       Grav\tGravity furnace\t\n",
    "       OthW\tHot water or steam heat other than gas\n",
    "       Wall\tWall furnace\n",
    "\t\t\n",
    "HeatingQC: Heating quality and condition\n",
    "\n",
    "       Ex\tExcellent\n",
    "       Gd\tGood\n",
    "       TA\tAverage/Typical\n",
    "       Fa\tFair\n",
    "       Po\tPoor\n",
    "\t\t\n",
    "CentralAir: Central air conditioning\n",
    "\n",
    "       N\tNo\n",
    "       Y\tYes\n",
    "\t\t\n",
    "Electrical: Electrical system\n",
    "\n",
    "       SBrkr\tStandard Circuit Breakers & Romex\n",
    "       FuseA\tFuse Box over 60 AMP and all Romex wiring (Average)\t\n",
    "       FuseF\t60 AMP Fuse Box and mostly Romex wiring (Fair)\n",
    "       FuseP\t60 AMP Fuse Box and mostly knob & tube wiring (poor)\n",
    "       Mix\tMixed\n",
    "\t\t\n",
    "1stFlrSF: First Floor square feet\n",
    " \n",
    "2ndFlrSF: Second floor square feet\n",
    "\n",
    "LowQualFinSF: Low quality finished square feet (all floors)\n",
    "\n",
    "GrLivArea: Above grade (ground) living area square feet\n",
    "\n",
    "BsmtFullBath: Basement full bathrooms\n",
    "\n",
    "BsmtHalfBath: Basement half bathrooms\n",
    "\n",
    "FullBath: Full bathrooms above grade\n",
    "\n",
    "HalfBath: Half baths above grade\n",
    "\n",
    "Bedroom: Bedrooms above grade (does NOT include basement bedrooms)\n",
    "\n",
    "Kitchen: Kitchens above grade\n",
    "\n",
    "KitchenQual: Kitchen quality\n",
    "\n",
    "       Ex\tExcellent\n",
    "       Gd\tGood\n",
    "       TA\tTypical/Average\n",
    "       Fa\tFair\n",
    "       Po\tPoor\n",
    "       \t\n",
    "TotRmsAbvGrd: Total rooms above grade (does not include bathrooms)\n",
    "\n",
    "Functional: Home functionality (Assume typical unless deductions are warranted)\n",
    "\n",
    "       Typ\tTypical Functionality\n",
    "       Min1\tMinor Deductions 1\n",
    "       Min2\tMinor Deductions 2\n",
    "       Mod\tModerate Deductions\n",
    "       Maj1\tMajor Deductions 1\n",
    "       Maj2\tMajor Deductions 2\n",
    "       Sev\tSeverely Damaged\n",
    "       Sal\tSalvage only\n",
    "\t\t\n",
    "Fireplaces: Number of fireplaces\n",
    "\n",
    "FireplaceQu: Fireplace quality\n",
    "\n",
    "       Ex\tExcellent - Exceptional Masonry Fireplace\n",
    "       Gd\tGood - Masonry Fireplace in main level\n",
    "       TA\tAverage - Prefabricated Fireplace in main living area or Masonry Fireplace in basement\n",
    "       Fa\tFair - Prefabricated Fireplace in basement\n",
    "       Po\tPoor - Ben Franklin Stove\n",
    "       NA\tNo Fireplace\n",
    "\t\t\n",
    "GarageType: Garage location\n",
    "\t\t\n",
    "       2Types\tMore than one type of garage\n",
    "       Attchd\tAttached to home\n",
    "       Basment\tBasement Garage\n",
    "       BuiltIn\tBuilt-In (Garage part of house - typically has room above garage)\n",
    "       CarPort\tCar Port\n",
    "       Detchd\tDetached from home\n",
    "       NA\tNo Garage\n",
    "\t\t\n",
    "GarageYrBlt: Year garage was built\n",
    "\t\t\n",
    "GarageFinish: Interior finish of the garage\n",
    "\n",
    "       Fin\tFinished\n",
    "       RFn\tRough Finished\t\n",
    "       Unf\tUnfinished\n",
    "       NA\tNo Garage\n",
    "\t\t\n",
    "GarageCars: Size of garage in car capacity\n",
    "\n",
    "GarageArea: Size of garage in square feet\n",
    "\n",
    "GarageQual: Garage quality\n",
    "\n",
    "       Ex\tExcellent\n",
    "       Gd\tGood\n",
    "       TA\tTypical/Average\n",
    "       Fa\tFair\n",
    "       Po\tPoor\n",
    "       NA\tNo Garage\n",
    "\t\t\n",
    "GarageCond: Garage condition\n",
    "\n",
    "       Ex\tExcellent\n",
    "       Gd\tGood\n",
    "       TA\tTypical/Average\n",
    "       Fa\tFair\n",
    "       Po\tPoor\n",
    "       NA\tNo Garage\n",
    "\t\t\n",
    "PavedDrive: Paved driveway\n",
    "\n",
    "       Y\tPaved \n",
    "       P\tPartial Pavement\n",
    "       N\tDirt/Gravel\n",
    "\t\t\n",
    "WoodDeckSF: Wood deck area in square feet\n",
    "\n",
    "OpenPorchSF: Open porch area in square feet\n",
    "\n",
    "EnclosedPorch: Enclosed porch area in square feet\n",
    "\n",
    "3SsnPorch: Three season porch area in square feet\n",
    "\n",
    "ScreenPorch: Screen porch area in square feet\n",
    "\n",
    "PoolArea: Pool area in square feet\n",
    "\n",
    "PoolQC: Pool quality\n",
    "\t\t\n",
    "       Ex\tExcellent\n",
    "       Gd\tGood\n",
    "       TA\tAverage/Typical\n",
    "       Fa\tFair\n",
    "       NA\tNo Pool\n",
    "\t\t\n",
    "Fence: Fence quality\n",
    "\t\t\n",
    "       GdPrv\tGood Privacy\n",
    "       MnPrv\tMinimum Privacy\n",
    "       GdWo\tGood Wood\n",
    "       MnWw\tMinimum Wood/Wire\n",
    "       NA\tNo Fence\n",
    "\t\n",
    "MiscFeature: Miscellaneous feature not covered in other categories\n",
    "\t\t\n",
    "       Elev\tElevator\n",
    "       Gar2\t2nd Garage (if not described in garage section)\n",
    "       Othr\tOther\n",
    "       Shed\tShed (over 100 SF)\n",
    "       TenC\tTennis Court\n",
    "       NA\tNone\n",
    "\t\t\n",
    "MiscVal: $Value of miscellaneous feature\n",
    "\n",
    "MoSold: Month Sold (MM)\n",
    "\n",
    "YrSold: Year Sold (YYYY)\n",
    "\n",
    "SaleType: Type of sale\n",
    "\t\t\n",
    "       WD \tWarranty Deed - Conventional\n",
    "       CWD\tWarranty Deed - Cash\n",
    "       VWD\tWarranty Deed - VA Loan\n",
    "       New\tHome just constructed and sold\n",
    "       COD\tCourt Officer Deed/Estate\n",
    "       Con\tContract 15% Down payment regular terms\n",
    "       ConLw\tContract Low Down payment and low interest\n",
    "       ConLI\tContract Low Interest\n",
    "       ConLD\tContract Low Down\n",
    "       Oth\tOther\n",
    "\t\t\n",
    "SaleCondition: Condition of sale\n",
    "\n",
    "       Normal\tNormal Sale\n",
    "       Abnorml\tAbnormal Sale -  trade, foreclosure, short sale\n",
    "       AdjLand\tAdjoining Land Purchase\n",
    "       Alloca\tAllocation - two linked properties with separate deeds, typically condo with a garage unit\t\n",
    "       Family\tSale between family members\n",
    "       Partial\tHome was not completed when last assessed (associated with New Homes)\n"
   ]
  },
  {
   "cell_type": "markdown",
   "metadata": {},
   "source": [
    "## Explore Data"
   ]
  },
  {
   "cell_type": "code",
   "execution_count": 2,
   "metadata": {},
   "outputs": [
    {
     "name": "stdout",
     "output_type": "stream",
     "text": [
      "<class 'pandas.core.frame.DataFrame'>\n",
      "RangeIndex: 1460 entries, 0 to 1459\n",
      "Data columns (total 81 columns):\n",
      "Id               1460 non-null int64\n",
      "MSSubClass       1460 non-null int64\n",
      "MSZoning         1460 non-null object\n",
      "LotFrontage      1201 non-null float64\n",
      "LotArea          1460 non-null int64\n",
      "Street           1460 non-null object\n",
      "Alley            91 non-null object\n",
      "LotShape         1460 non-null object\n",
      "LandContour      1460 non-null object\n",
      "Utilities        1460 non-null object\n",
      "LotConfig        1460 non-null object\n",
      "LandSlope        1460 non-null object\n",
      "Neighborhood     1460 non-null object\n",
      "Condition1       1460 non-null object\n",
      "Condition2       1460 non-null object\n",
      "BldgType         1460 non-null object\n",
      "HouseStyle       1460 non-null object\n",
      "OverallQual      1460 non-null int64\n",
      "OverallCond      1460 non-null int64\n",
      "YearBuilt        1460 non-null int64\n",
      "YearRemodAdd     1460 non-null int64\n",
      "RoofStyle        1460 non-null object\n",
      "RoofMatl         1460 non-null object\n",
      "Exterior1st      1460 non-null object\n",
      "Exterior2nd      1460 non-null object\n",
      "MasVnrType       1452 non-null object\n",
      "MasVnrArea       1452 non-null float64\n",
      "ExterQual        1460 non-null object\n",
      "ExterCond        1460 non-null object\n",
      "Foundation       1460 non-null object\n",
      "BsmtQual         1423 non-null object\n",
      "BsmtCond         1423 non-null object\n",
      "BsmtExposure     1422 non-null object\n",
      "BsmtFinType1     1423 non-null object\n",
      "BsmtFinSF1       1460 non-null int64\n",
      "BsmtFinType2     1422 non-null object\n",
      "BsmtFinSF2       1460 non-null int64\n",
      "BsmtUnfSF        1460 non-null int64\n",
      "TotalBsmtSF      1460 non-null int64\n",
      "Heating          1460 non-null object\n",
      "HeatingQC        1460 non-null object\n",
      "CentralAir       1460 non-null object\n",
      "Electrical       1459 non-null object\n",
      "1stFlrSF         1460 non-null int64\n",
      "2ndFlrSF         1460 non-null int64\n",
      "LowQualFinSF     1460 non-null int64\n",
      "GrLivArea        1460 non-null int64\n",
      "BsmtFullBath     1460 non-null int64\n",
      "BsmtHalfBath     1460 non-null int64\n",
      "FullBath         1460 non-null int64\n",
      "HalfBath         1460 non-null int64\n",
      "BedroomAbvGr     1460 non-null int64\n",
      "KitchenAbvGr     1460 non-null int64\n",
      "KitchenQual      1460 non-null object\n",
      "TotRmsAbvGrd     1460 non-null int64\n",
      "Functional       1460 non-null object\n",
      "Fireplaces       1460 non-null int64\n",
      "FireplaceQu      770 non-null object\n",
      "GarageType       1379 non-null object\n",
      "GarageYrBlt      1379 non-null float64\n",
      "GarageFinish     1379 non-null object\n",
      "GarageCars       1460 non-null int64\n",
      "GarageArea       1460 non-null int64\n",
      "GarageQual       1379 non-null object\n",
      "GarageCond       1379 non-null object\n",
      "PavedDrive       1460 non-null object\n",
      "WoodDeckSF       1460 non-null int64\n",
      "OpenPorchSF      1460 non-null int64\n",
      "EnclosedPorch    1460 non-null int64\n",
      "3SsnPorch        1460 non-null int64\n",
      "ScreenPorch      1460 non-null int64\n",
      "PoolArea         1460 non-null int64\n",
      "PoolQC           7 non-null object\n",
      "Fence            281 non-null object\n",
      "MiscFeature      54 non-null object\n",
      "MiscVal          1460 non-null int64\n",
      "MoSold           1460 non-null int64\n",
      "YrSold           1460 non-null int64\n",
      "SaleType         1460 non-null object\n",
      "SaleCondition    1460 non-null object\n",
      "SalePrice        1460 non-null int64\n",
      "dtypes: float64(3), int64(35), object(43)\n",
      "memory usage: 924.0+ KB\n"
     ]
    }
   ],
   "source": [
    "train_data.info()"
   ]
  },
  {
   "cell_type": "markdown",
   "metadata": {},
   "source": [
    "### there are 1460 rows \n",
    "### how many are nulls in train data?"
   ]
  },
  {
   "cell_type": "code",
   "execution_count": 3,
   "metadata": {},
   "outputs": [
    {
     "name": "stdout",
     "output_type": "stream",
     "text": [
      "no of null values in each column of train set is\n",
      " Id                  0\n",
      "MSSubClass          0\n",
      "MSZoning            0\n",
      "LotFrontage       259\n",
      "LotArea             0\n",
      "Street              0\n",
      "Alley            1369\n",
      "LotShape            0\n",
      "LandContour         0\n",
      "Utilities           0\n",
      "LotConfig           0\n",
      "LandSlope           0\n",
      "Neighborhood        0\n",
      "Condition1          0\n",
      "Condition2          0\n",
      "BldgType            0\n",
      "HouseStyle          0\n",
      "OverallQual         0\n",
      "OverallCond         0\n",
      "YearBuilt           0\n",
      "YearRemodAdd        0\n",
      "RoofStyle           0\n",
      "RoofMatl            0\n",
      "Exterior1st         0\n",
      "Exterior2nd         0\n",
      "MasVnrType          8\n",
      "MasVnrArea          8\n",
      "ExterQual           0\n",
      "ExterCond           0\n",
      "Foundation          0\n",
      "                 ... \n",
      "BedroomAbvGr        0\n",
      "KitchenAbvGr        0\n",
      "KitchenQual         0\n",
      "TotRmsAbvGrd        0\n",
      "Functional          0\n",
      "Fireplaces          0\n",
      "FireplaceQu       690\n",
      "GarageType         81\n",
      "GarageYrBlt        81\n",
      "GarageFinish       81\n",
      "GarageCars          0\n",
      "GarageArea          0\n",
      "GarageQual         81\n",
      "GarageCond         81\n",
      "PavedDrive          0\n",
      "WoodDeckSF          0\n",
      "OpenPorchSF         0\n",
      "EnclosedPorch       0\n",
      "3SsnPorch           0\n",
      "ScreenPorch         0\n",
      "PoolArea            0\n",
      "PoolQC           1453\n",
      "Fence            1179\n",
      "MiscFeature      1406\n",
      "MiscVal             0\n",
      "MoSold              0\n",
      "YrSold              0\n",
      "SaleType            0\n",
      "SaleCondition       0\n",
      "SalePrice           0\n",
      "Length: 81, dtype: int64\n",
      "\n",
      "no of columns with null values are\n",
      " 4\n"
     ]
    }
   ],
   "source": [
    "#finding no of null values and the column name which contains null value\n",
    "print(\"no of null values in each column of train set is\\n\",train_data.isna().sum())\n",
    "nan_val= []\n",
    "for i in train_data.columns:\n",
    "    if(train_data[i].isna().sum() > 1000):\n",
    "        nan_val.append(i)\n",
    "print(\"\\nno of columns with null values are\\n\",len(nan_val))      "
   ]
  },
  {
   "cell_type": "markdown",
   "metadata": {},
   "source": [
    "<b>we have <u>19</u> columns with null values and their name can be found in list nan_val,out of which 4 have more than 1000 null values and it is better to drop them  \n"
   ]
  },
  {
   "cell_type": "markdown",
   "metadata": {},
   "source": [
    "### how many are nulls in train data?"
   ]
  },
  {
   "cell_type": "code",
   "execution_count": 4,
   "metadata": {},
   "outputs": [
    {
     "name": "stdout",
     "output_type": "stream",
     "text": [
      "no of null values in each column of train set is\n",
      " Id                  0\n",
      "MSSubClass          0\n",
      "MSZoning            0\n",
      "LotFrontage       259\n",
      "LotArea             0\n",
      "Street              0\n",
      "Alley            1369\n",
      "LotShape            0\n",
      "LandContour         0\n",
      "Utilities           0\n",
      "LotConfig           0\n",
      "LandSlope           0\n",
      "Neighborhood        0\n",
      "Condition1          0\n",
      "Condition2          0\n",
      "BldgType            0\n",
      "HouseStyle          0\n",
      "OverallQual         0\n",
      "OverallCond         0\n",
      "YearBuilt           0\n",
      "YearRemodAdd        0\n",
      "RoofStyle           0\n",
      "RoofMatl            0\n",
      "Exterior1st         0\n",
      "Exterior2nd         0\n",
      "MasVnrType          8\n",
      "MasVnrArea          8\n",
      "ExterQual           0\n",
      "ExterCond           0\n",
      "Foundation          0\n",
      "                 ... \n",
      "BedroomAbvGr        0\n",
      "KitchenAbvGr        0\n",
      "KitchenQual         0\n",
      "TotRmsAbvGrd        0\n",
      "Functional          0\n",
      "Fireplaces          0\n",
      "FireplaceQu       690\n",
      "GarageType         81\n",
      "GarageYrBlt        81\n",
      "GarageFinish       81\n",
      "GarageCars          0\n",
      "GarageArea          0\n",
      "GarageQual         81\n",
      "GarageCond         81\n",
      "PavedDrive          0\n",
      "WoodDeckSF          0\n",
      "OpenPorchSF         0\n",
      "EnclosedPorch       0\n",
      "3SsnPorch           0\n",
      "ScreenPorch         0\n",
      "PoolArea            0\n",
      "PoolQC           1453\n",
      "Fence            1179\n",
      "MiscFeature      1406\n",
      "MiscVal             0\n",
      "MoSold              0\n",
      "YrSold              0\n",
      "SaleType            0\n",
      "SaleCondition       0\n",
      "SalePrice           0\n",
      "Length: 81, dtype: int64\n",
      "\n",
      "no of columns with null values are\n",
      " 4\n"
     ]
    }
   ],
   "source": [
    "print(\"no of null values in each column of train set is\\n\",train_data.isna().sum())\n",
    "nan_val= []\n",
    "for i in test_data.columns:\n",
    "    if(test_data[i].isna().sum() > 1000):\n",
    "        nan_val.append(i)\n",
    "print(\"\\nno of columns with null values are\\n\",len(nan_val))   "
   ]
  },
  {
   "cell_type": "markdown",
   "metadata": {},
   "source": [
    "<b>we have <u>33</u> columns with null values and their name can be found in list nan_val,out of which 4 have more than 1000 null values and it is better to drop them  \n"
   ]
  },
  {
   "cell_type": "code",
   "execution_count": 5,
   "metadata": {},
   "outputs": [
    {
     "name": "stdout",
     "output_type": "stream",
     "text": [
      "['Alley', 'PoolQC', 'Fence', 'MiscFeature']\n"
     ]
    }
   ],
   "source": [
    "nan_val1= []\n",
    "for i in test_data.columns:\n",
    "    if(train_data[i].isna().sum() >1000):\n",
    "        nan_val1.append(i)\n",
    "#print(\"\\nno of columns with null values are\\n\",len(nan_val1))    \n",
    "print(nan_val1)"
   ]
  },
  {
   "cell_type": "code",
   "execution_count": 6,
   "metadata": {},
   "outputs": [],
   "source": [
    "train_data.drop(columns = ['Alley', 'PoolQC', 'Fence', 'MiscFeature'],inplace = True)\n",
    "test_data.drop(columns = ['Alley', 'PoolQC', 'Fence', 'MiscFeature'],inplace = True)"
   ]
  },
  {
   "cell_type": "code",
   "execution_count": 7,
   "metadata": {},
   "outputs": [
    {
     "name": "stdout",
     "output_type": "stream",
     "text": [
      "['LotFrontage', 'MasVnrType', 'MasVnrArea', 'BsmtQual', 'BsmtCond', 'BsmtExposure', 'BsmtFinType1', 'BsmtFinType2', 'Electrical', 'GarageType', 'GarageYrBlt', 'GarageFinish', 'GarageQual', 'GarageCond']\n"
     ]
    }
   ],
   "source": [
    "nan_val1= []\n",
    "for i in test_data.columns:\n",
    "    if(train_data[i].isna().sum()<500 and train_data[i].isna().sum()!=0 ):\n",
    "        nan_val1.append(i)\n",
    "print(nan_val1)"
   ]
  },
  {
   "cell_type": "raw",
   "metadata": {},
   "source": [
    "BrkCmn\tBrick Common\n",
    "       BrkFace\tBrick Face\n",
    "       CBlock\tCinder Block\n",
    "       None\tNone\n",
    "       Stone\tStone"
   ]
  },
  {
   "cell_type": "code",
   "execution_count": 8,
   "metadata": {},
   "outputs": [],
   "source": [
    "#for dataset in train_test_data:\n",
    "#print(test_data['MasVnrType'].mode(),'\\n')\n",
    "#print(train_data.groupby('MasVnrType')['MasVnrArea'].mean())\n",
    "#print(test_data.groupby('MasVnrType')['MasVnrArea'].mean())\n",
    "train_data['MasVnrType'].fillna(\"None\",inplace = True)\n",
    "test_data['MasVnrType'].fillna(\"None\",inplace = True)"
   ]
  },
  {
   "cell_type": "code",
   "execution_count": 9,
   "metadata": {},
   "outputs": [
    {
     "name": "stdout",
     "output_type": "stream",
     "text": [
      "['LotFrontage', 'MasVnrArea', 'BsmtQual', 'BsmtCond', 'BsmtExposure', 'BsmtFinType1', 'BsmtFinType2', 'Electrical', 'GarageType', 'GarageYrBlt', 'GarageFinish', 'GarageQual', 'GarageCond']\n"
     ]
    }
   ],
   "source": [
    "nan_val1= []\n",
    "for i in test_data.columns:\n",
    "    if(train_data[i].isna().sum()<300 and train_data[i].isna().sum()!=0 ):\n",
    "        nan_val1.append(i)\n",
    "print(nan_val1)"
   ]
  },
  {
   "cell_type": "code",
   "execution_count": 10,
   "metadata": {},
   "outputs": [],
   "source": [
    "train_data['MasVnrArea'].fillna(train_data.groupby('MasVnrType')['MasVnrArea'].transform('mean'),inplace = True)\n",
    "test_data['MasVnrArea'].fillna(train_data.groupby('MasVnrType')['MasVnrArea'].transform('mean'),inplace = True)"
   ]
  },
  {
   "cell_type": "code",
   "execution_count": 11,
   "metadata": {},
   "outputs": [
    {
     "name": "stdout",
     "output_type": "stream",
     "text": [
      "['LotFrontage', 'BsmtQual', 'BsmtCond', 'BsmtExposure', 'BsmtFinType1', 'BsmtFinType2', 'Electrical', 'GarageType', 'GarageYrBlt', 'GarageFinish', 'GarageQual', 'GarageCond']\n"
     ]
    }
   ],
   "source": [
    "nan_val1= []\n",
    "for i in test_data.columns:\n",
    "    if(train_data[i].isna().sum()<300 and train_data[i].isna().sum()!=0 ):\n",
    "        nan_val1.append(i)\n",
    "print(nan_val1)"
   ]
  },
  {
   "cell_type": "code",
   "execution_count": 12,
   "metadata": {},
   "outputs": [],
   "source": [
    "#quality = train_data[['PavedDrive','SalePrice']]\n",
    "#quality.groupby('PavedDrive').mean().plot.bar()\n",
    "#print(quality.groupby('PavedDrive').mean())"
   ]
  },
  {
   "cell_type": "code",
   "execution_count": 13,
   "metadata": {},
   "outputs": [
    {
     "data": {
      "text/plain": [
       "Id              -0.010601\n",
       "MSSubClass      -0.386347\n",
       "LotFrontage      1.000000\n",
       "LotArea          0.426095\n",
       "OverallQual      0.251646\n",
       "OverallCond     -0.059213\n",
       "YearBuilt        0.123349\n",
       "YearRemodAdd     0.088866\n",
       "MasVnrArea       0.192419\n",
       "BsmtFinSF1       0.233633\n",
       "BsmtFinSF2       0.049900\n",
       "BsmtUnfSF        0.132644\n",
       "TotalBsmtSF      0.392075\n",
       "1stFlrSF         0.457181\n",
       "2ndFlrSF         0.080177\n",
       "LowQualFinSF     0.038469\n",
       "GrLivArea        0.402797\n",
       "BsmtFullBath     0.100949\n",
       "BsmtHalfBath    -0.007234\n",
       "FullBath         0.198769\n",
       "HalfBath         0.053532\n",
       "BedroomAbvGr     0.263170\n",
       "KitchenAbvGr    -0.006069\n",
       "TotRmsAbvGrd     0.352096\n",
       "Fireplaces       0.266639\n",
       "GarageYrBlt      0.070250\n",
       "GarageCars       0.285691\n",
       "GarageArea       0.344997\n",
       "WoodDeckSF       0.088521\n",
       "OpenPorchSF      0.151972\n",
       "EnclosedPorch    0.010700\n",
       "3SsnPorch        0.070029\n",
       "ScreenPorch      0.041383\n",
       "PoolArea         0.206167\n",
       "MiscVal          0.003368\n",
       "MoSold           0.011200\n",
       "YrSold           0.007450\n",
       "SalePrice        0.351799\n",
       "Name: LotFrontage, dtype: float64"
      ]
     },
     "execution_count": 13,
     "metadata": {},
     "output_type": "execute_result"
    }
   ],
   "source": [
    "re = train_data.corr()\n",
    "re['LotFrontage']"
   ]
  },
  {
   "cell_type": "code",
   "execution_count": 14,
   "metadata": {},
   "outputs": [
    {
     "data": {
      "text/plain": [
       "<matplotlib.axes._subplots.AxesSubplot at 0x15f31022630>"
      ]
     },
     "execution_count": 14,
     "metadata": {},
     "output_type": "execute_result"
    },
    {
     "data": {
      "image/png": "[encoded data removed]",
      "text/plain": [
       "<Figure size 432x288 with 1 Axes>"
      ]
     },
     "metadata": {
      "needs_background": "light"
     },
     "output_type": "display_data"
    }
   ],
   "source": [
    "A=train_data.LotFrontage\n",
    "Anan=A[~np.isnan(A)] # Remove the NaNs\n",
    "\n",
    "sns.distplot(Anan,hist=True,bins = 10)"
   ]
  },
  {
   "cell_type": "code",
   "execution_count": 15,
   "metadata": {},
   "outputs": [],
   "source": [
    "train_data['LotFrontage'].fillna(train_data.LotFrontage.mean(),inplace = True)\n",
    "test_data['LotFrontage'].fillna(train_data.LotFrontage.mean(),inplace = True)"
   ]
  },
  {
   "cell_type": "code",
   "execution_count": 16,
   "metadata": {},
   "outputs": [
    {
     "name": "stdout",
     "output_type": "stream",
     "text": [
      "0\n",
      "0\n"
     ]
    }
   ],
   "source": [
    "print(train_data['LotFrontage'].isna().sum())\n",
    "print(test_data['LotFrontage'].isna().sum())"
   ]
  },
  {
   "cell_type": "code",
   "execution_count": 17,
   "metadata": {},
   "outputs": [
    {
     "name": "stdout",
     "output_type": "stream",
     "text": [
      "['BsmtQual', 'BsmtCond', 'BsmtExposure', 'BsmtFinType1', 'BsmtFinType2', 'Electrical', 'GarageType', 'GarageYrBlt', 'GarageFinish', 'GarageQual', 'GarageCond']\n"
     ]
    }
   ],
   "source": [
    "nan_val1= []\n",
    "for i in test_data.columns:\n",
    "    if(train_data[i].isna().sum()<300 and train_data[i].isna().sum()!=0 ):\n",
    "        nan_val1.append(i)\n",
    "print(nan_val1)"
   ]
  },
  {
   "cell_type": "code",
   "execution_count": 18,
   "metadata": {},
   "outputs": [
    {
     "name": "stdout",
     "output_type": "stream",
     "text": [
      "TA    649\n",
      "Gd    618\n",
      "Ex    121\n",
      "Fa     35\n",
      "Name: BsmtQual, dtype: int64\n",
      "TA    634\n",
      "Gd    591\n",
      "Ex    137\n",
      "Fa     53\n",
      "Name: BsmtQual, dtype: int64\n"
     ]
    },
    {
     "data": {
      "text/plain": [
       "'TA'"
      ]
     },
     "execution_count": 18,
     "metadata": {},
     "output_type": "execute_result"
    }
   ],
   "source": [
    "print(train_data['BsmtQual'].value_counts())\n",
    "print(test_data['BsmtQual'].value_counts())\n",
    "train_data.BsmtQual.mode()[0]"
   ]
  },
  {
   "cell_type": "code",
   "execution_count": 19,
   "metadata": {},
   "outputs": [],
   "source": [
    "train_data['BsmtQual'].fillna('None',inplace = True)\n",
    "test_data['BsmtQual'].fillna('None',inplace = True)"
   ]
  },
  {
   "cell_type": "code",
   "execution_count": 20,
   "metadata": {},
   "outputs": [
    {
     "name": "stdout",
     "output_type": "stream",
     "text": [
      "['BsmtCond', 'BsmtExposure', 'BsmtFinType1', 'BsmtFinType2', 'Electrical', 'GarageType', 'GarageYrBlt', 'GarageFinish', 'GarageQual', 'GarageCond']\n"
     ]
    }
   ],
   "source": [
    "nan_val1= []\n",
    "for i in test_data.columns:\n",
    "    if(train_data[i].isna().sum()<300 and train_data[i].isna().sum()!=0 ):\n",
    "        nan_val1.append(i)\n",
    "print(nan_val1)"
   ]
  },
  {
   "cell_type": "code",
   "execution_count": 21,
   "metadata": {},
   "outputs": [
    {
     "name": "stdout",
     "output_type": "stream",
     "text": [
      "TA    1311\n",
      "Gd      65\n",
      "Fa      45\n",
      "Po       2\n",
      "Name: BsmtCond, dtype: int64\n",
      "TA    1295\n",
      "Fa      59\n",
      "Gd      57\n",
      "Po       3\n",
      "Name: BsmtCond, dtype: int64\n",
      "['BsmtExposure', 'BsmtFinType1', 'BsmtFinType2', 'Electrical', 'GarageType', 'GarageYrBlt', 'GarageFinish', 'GarageQual', 'GarageCond']\n"
     ]
    }
   ],
   "source": [
    "print(train_data['BsmtCond'].value_counts())\n",
    "print(test_data['BsmtCond'].value_counts())\n",
    "train_data['BsmtCond'].fillna(\"None\",inplace = True)\n",
    "test_data['BsmtCond'].fillna(\"None\",inplace = True)\n",
    "nan_val1= []\n",
    "for i in test_data.columns:\n",
    "    if(train_data[i].isna().sum()<300 and train_data[i].isna().sum()!=0 ):\n",
    "        nan_val1.append(i)\n",
    "print(nan_val1)"
   ]
  },
  {
   "cell_type": "code",
   "execution_count": 22,
   "metadata": {},
   "outputs": [
    {
     "name": "stdout",
     "output_type": "stream",
     "text": [
      "No    953\n",
      "Av    221\n",
      "Gd    134\n",
      "Mn    114\n",
      "Name: BsmtExposure, dtype: int64\n",
      "No    951\n",
      "Av    197\n",
      "Gd    142\n",
      "Mn    125\n",
      "Name: BsmtExposure, dtype: int64\n",
      "['BsmtFinType1', 'BsmtFinType2', 'Electrical', 'GarageType', 'GarageYrBlt', 'GarageFinish', 'GarageQual', 'GarageCond']\n"
     ]
    }
   ],
   "source": [
    "print(train_data['BsmtExposure'].value_counts())\n",
    "print(test_data['BsmtExposure'].value_counts())\n",
    "train_data['BsmtExposure'].fillna(\"None\",inplace = True)\n",
    "test_data['BsmtExposure'].fillna(\"None\",inplace = True)\n",
    "nan_val1= []\n",
    "for i in test_data.columns:\n",
    "    if(train_data[i].isna().sum()<300 and train_data[i].isna().sum()!=0 ):\n",
    "        nan_val1.append(i)\n",
    "print(nan_val1)"
   ]
  },
  {
   "cell_type": "code",
   "execution_count": 23,
   "metadata": {},
   "outputs": [
    {
     "name": "stdout",
     "output_type": "stream",
     "text": [
      "Unf    1256\n",
      "Rec      54\n",
      "LwQ      46\n",
      "BLQ      33\n",
      "ALQ      19\n",
      "GLQ      14\n",
      "Name: BsmtFinType2, dtype: int64\n",
      "Unf    1237\n",
      "Rec      51\n",
      "LwQ      41\n",
      "BLQ      35\n",
      "ALQ      33\n",
      "GLQ      20\n",
      "Name: BsmtFinType2, dtype: int64\n",
      "['BsmtFinType1', 'Electrical', 'GarageType', 'GarageYrBlt', 'GarageFinish', 'GarageQual', 'GarageCond']\n"
     ]
    }
   ],
   "source": [
    "print(train_data['BsmtFinType2'].value_counts())\n",
    "print(test_data['BsmtFinType2'].value_counts())\n",
    "train_data['BsmtFinType2'].fillna(\"None\",inplace = True)\n",
    "test_data['BsmtFinType2'].fillna(\"None\",inplace = True)\n",
    "nan_val1= []\n",
    "for i in test_data.columns:\n",
    "    if(train_data[i].isna().sum()<300 and train_data[i].isna().sum()!=0 ):\n",
    "        nan_val1.append(i)\n",
    "print(nan_val1)"
   ]
  },
  {
   "cell_type": "code",
   "execution_count": 24,
   "metadata": {},
   "outputs": [
    {
     "name": "stdout",
     "output_type": "stream",
     "text": [
      "SBrkr    1334\n",
      "FuseA      94\n",
      "FuseF      27\n",
      "FuseP       3\n",
      "Mix         1\n",
      "Name: Electrical, dtype: int64\n",
      "SBrkr    1337\n",
      "FuseA      94\n",
      "FuseF      23\n",
      "FuseP       5\n",
      "Name: Electrical, dtype: int64\n",
      "['BsmtFinType1', 'GarageType', 'GarageYrBlt', 'GarageFinish', 'GarageQual', 'GarageCond']\n"
     ]
    }
   ],
   "source": [
    "print(train_data['Electrical'].value_counts())\n",
    "print(test_data['Electrical'].value_counts())\n",
    "train_data['Electrical'].fillna(train_data['Electrical'].mode()[0],inplace = True)\n",
    "test_data['Electrical'].fillna(test_data['Electrical'].mode()[0],inplace = True)\n",
    "nan_val1= []\n",
    "for i in test_data.columns:\n",
    "    if(train_data[i].isna().sum()<300 and train_data[i].isna().sum()!=0 ):\n",
    "        nan_val1.append(i)\n",
    "print(nan_val1)"
   ]
  },
  {
   "cell_type": "code",
   "execution_count": 25,
   "metadata": {},
   "outputs": [
    {
     "name": "stdout",
     "output_type": "stream",
     "text": [
      "Attchd     870\n",
      "Detchd     387\n",
      "BuiltIn     88\n",
      "Basment     19\n",
      "CarPort      9\n",
      "2Types       6\n",
      "Name: GarageType, dtype: int64\n",
      "Attchd     853\n",
      "Detchd     392\n",
      "BuiltIn     98\n",
      "2Types      17\n",
      "Basment     17\n",
      "CarPort      6\n",
      "Name: GarageType, dtype: int64\n",
      "['BsmtFinType1', 'GarageYrBlt', 'GarageFinish', 'GarageQual', 'GarageCond']\n"
     ]
    }
   ],
   "source": [
    "print(train_data['GarageType'].value_counts())\n",
    "print(test_data['GarageType'].value_counts())\n",
    "train_data['GarageType'].fillna(\"None\",inplace = True)\n",
    "test_data['GarageType'].fillna(\"None\",inplace = True)\n",
    "nan_val1= []\n",
    "for i in test_data.columns:\n",
    "    if(train_data[i].isna().sum()<300 and train_data[i].isna().sum()!=0 ):\n",
    "        nan_val1.append(i)\n",
    "print(nan_val1)"
   ]
  },
  {
   "cell_type": "code",
   "execution_count": 26,
   "metadata": {},
   "outputs": [
    {
     "name": "stdout",
     "output_type": "stream",
     "text": [
      "2005.0    65\n",
      "2006.0    59\n",
      "2004.0    53\n",
      "2003.0    50\n",
      "2007.0    49\n",
      "1977.0    35\n",
      "1998.0    31\n",
      "1999.0    30\n",
      "2008.0    29\n",
      "1976.0    29\n",
      "2000.0    27\n",
      "2002.0    26\n",
      "1968.0    26\n",
      "1950.0    24\n",
      "1993.0    22\n",
      "2009.0    21\n",
      "1965.0    21\n",
      "1966.0    21\n",
      "1962.0    21\n",
      "1958.0    21\n",
      "2001.0    20\n",
      "1996.0    20\n",
      "1957.0    20\n",
      "1970.0    20\n",
      "1960.0    19\n",
      "1997.0    19\n",
      "1978.0    19\n",
      "1954.0    19\n",
      "1974.0    18\n",
      "1994.0    18\n",
      "          ..\n",
      "1922.0     5\n",
      "1936.0     5\n",
      "1916.0     5\n",
      "1931.0     4\n",
      "1945.0     4\n",
      "1935.0     4\n",
      "1928.0     4\n",
      "1946.0     4\n",
      "1982.0     4\n",
      "1938.0     3\n",
      "1921.0     3\n",
      "1924.0     3\n",
      "1910.0     3\n",
      "1952.0     3\n",
      "1932.0     3\n",
      "2010.0     3\n",
      "1923.0     3\n",
      "1937.0     2\n",
      "1934.0     2\n",
      "1918.0     2\n",
      "1947.0     2\n",
      "1929.0     2\n",
      "1914.0     2\n",
      "1915.0     2\n",
      "1942.0     2\n",
      "1908.0     1\n",
      "1927.0     1\n",
      "1933.0     1\n",
      "1900.0     1\n",
      "1906.0     1\n",
      "Name: GarageYrBlt, Length: 97, dtype: int64\n",
      "2005.0    77\n",
      "2007.0    66\n",
      "2006.0    56\n",
      "2004.0    46\n",
      "2003.0    42\n",
      "2008.0    32\n",
      "1977.0    31\n",
      "2000.0    28\n",
      "1993.0    27\n",
      "1950.0    27\n",
      "2002.0    27\n",
      "1998.0    27\n",
      "1956.0    25\n",
      "1997.0    25\n",
      "1999.0    24\n",
      "1978.0    22\n",
      "1968.0    22\n",
      "1958.0    21\n",
      "1967.0    21\n",
      "1994.0    21\n",
      "1976.0    21\n",
      "2001.0    21\n",
      "1979.0    20\n",
      "1996.0    20\n",
      "1920.0    19\n",
      "1930.0    19\n",
      "1959.0    19\n",
      "1975.0    19\n",
      "1954.0    18\n",
      "1966.0    18\n",
      "          ..\n",
      "1946.0     5\n",
      "1981.0     5\n",
      "1924.0     5\n",
      "1982.0     5\n",
      "1915.0     5\n",
      "1900.0     5\n",
      "1925.0     5\n",
      "1942.0     4\n",
      "1941.0     4\n",
      "1927.0     4\n",
      "1937.0     4\n",
      "1983.0     4\n",
      "1935.0     4\n",
      "1928.0     3\n",
      "1923.0     3\n",
      "1947.0     3\n",
      "1922.0     3\n",
      "1934.0     2\n",
      "1921.0     2\n",
      "1917.0     2\n",
      "1936.0     2\n",
      "2010.0     2\n",
      "1932.0     1\n",
      "1943.0     1\n",
      "2207.0     1\n",
      "1918.0     1\n",
      "1895.0     1\n",
      "1919.0     1\n",
      "1896.0     1\n",
      "1916.0     1\n",
      "Name: GarageYrBlt, Length: 97, dtype: int64\n",
      "['BsmtFinType1', 'GarageFinish', 'GarageQual', 'GarageCond']\n"
     ]
    }
   ],
   "source": [
    "print(train_data['GarageYrBlt'].value_counts())\n",
    "print(test_data['GarageYrBlt'].value_counts())\n",
    "train_data['GarageYrBlt'].fillna(0,inplace = True)\n",
    "test_data['GarageYrBlt'].fillna(0,inplace = True)\n",
    "nan_val1= []\n",
    "for i in test_data.columns:\n",
    "    if(train_data[i].isna().sum()<300 and train_data[i].isna().sum()!=0 ):\n",
    "        nan_val1.append(i)\n",
    "print(nan_val1)"
   ]
  },
  {
   "cell_type": "code",
   "execution_count": 27,
   "metadata": {},
   "outputs": [
    {
     "name": "stdout",
     "output_type": "stream",
     "text": [
      "Unf    605\n",
      "RFn    422\n",
      "Fin    352\n",
      "Name: GarageFinish, dtype: int64\n",
      "Unf    625\n",
      "RFn    389\n",
      "Fin    367\n",
      "Name: GarageFinish, dtype: int64\n",
      "['BsmtFinType1', 'GarageQual', 'GarageCond']\n"
     ]
    }
   ],
   "source": [
    "print(train_data['GarageFinish'].value_counts())\n",
    "print(test_data['GarageFinish'].value_counts())\n",
    "train_data['GarageFinish'].fillna(\"None\",inplace = True)\n",
    "test_data['GarageFinish'].fillna(\"None\",inplace = True)\n",
    "nan_val1= []\n",
    "for i in test_data.columns:\n",
    "    if(train_data[i].isna().sum()<300 and train_data[i].isna().sum()!=0 ):\n",
    "        nan_val1.append(i)\n",
    "print(nan_val1)"
   ]
  },
  {
   "cell_type": "code",
   "execution_count": 28,
   "metadata": {},
   "outputs": [
    {
     "name": "stdout",
     "output_type": "stream",
     "text": [
      "TA    1311\n",
      "Fa      48\n",
      "Gd      14\n",
      "Po       3\n",
      "Ex       3\n",
      "Name: GarageQual, dtype: int64\n",
      "TA    1293\n",
      "Fa      76\n",
      "Gd      10\n",
      "Po       2\n",
      "Name: GarageQual, dtype: int64\n",
      "['BsmtFinType1', 'GarageCond']\n"
     ]
    }
   ],
   "source": [
    "print(train_data['GarageQual'].value_counts())\n",
    "print(test_data['GarageQual'].value_counts())\n",
    "train_data['GarageQual'].fillna(\"None\",inplace = True)\n",
    "test_data['GarageQual'].fillna(\"None\",inplace = True)\n",
    "nan_val1= []\n",
    "for i in test_data.columns:\n",
    "    if(train_data[i].isna().sum()<300 and train_data[i].isna().sum()!=0 ):\n",
    "        nan_val1.append(i)\n",
    "print(nan_val1)"
   ]
  },
  {
   "cell_type": "code",
   "execution_count": 29,
   "metadata": {},
   "outputs": [
    {
     "name": "stdout",
     "output_type": "stream",
     "text": [
      "TA    1326\n",
      "Fa      35\n",
      "Gd       9\n",
      "Po       7\n",
      "Ex       2\n",
      "Name: GarageCond, dtype: int64\n",
      "TA    1328\n",
      "Fa      39\n",
      "Po       7\n",
      "Gd       6\n",
      "Ex       1\n",
      "Name: GarageCond, dtype: int64\n",
      "['BsmtFinType1']\n"
     ]
    }
   ],
   "source": [
    "print(train_data['GarageCond'].value_counts())\n",
    "print(test_data['GarageCond'].value_counts())\n",
    "train_data['GarageCond'].fillna(\"None\",inplace = True)\n",
    "test_data['GarageCond'].fillna(\"None\",inplace = True)\n",
    "nan_val1= []\n",
    "for i in test_data.columns:\n",
    "    if(train_data[i].isna().sum()<300 and train_data[i].isna().sum()!=0 ):\n",
    "        nan_val1.append(i)\n",
    "print(nan_val1)"
   ]
  },
  {
   "cell_type": "code",
   "execution_count": 30,
   "metadata": {},
   "outputs": [
    {
     "name": "stdout",
     "output_type": "stream",
     "text": [
      "Unf    430\n",
      "GLQ    418\n",
      "ALQ    220\n",
      "BLQ    148\n",
      "Rec    133\n",
      "LwQ     74\n",
      "Name: BsmtFinType1, dtype: int64\n",
      "GLQ    431\n",
      "Unf    421\n",
      "ALQ    209\n",
      "Rec    155\n",
      "BLQ    121\n",
      "LwQ     80\n",
      "Name: BsmtFinType1, dtype: int64\n"
     ]
    }
   ],
   "source": [
    "print(train_data['BsmtFinType1'].value_counts())\n",
    "print(test_data['BsmtFinType1'].value_counts())\n",
    "train_data['BsmtFinType1'].fillna(\"None\",inplace = True)\n",
    "test_data['BsmtFinType1'].fillna(\"None\",inplace = True)\n",
    "nan_val1= []\n"
   ]
  },
  {
   "cell_type": "code",
   "execution_count": 31,
   "metadata": {},
   "outputs": [
    {
     "name": "stdout",
     "output_type": "stream",
     "text": [
      "['FireplaceQu']\n"
     ]
    }
   ],
   "source": [
    "for i in test_data.columns:\n",
    "    if(train_data[i].isna().sum()>300):\n",
    "        nan_val1.append(i)\n",
    "print(nan_val1)"
   ]
  },
  {
   "cell_type": "code",
   "execution_count": 32,
   "metadata": {},
   "outputs": [],
   "source": [
    "train_data['FireplaceQu'].fillna(\"None\",inplace = True)\n",
    "test_data['FireplaceQu'].fillna(\"None\",inplace = True)"
   ]
  },
  {
   "cell_type": "code",
   "execution_count": 33,
   "metadata": {},
   "outputs": [
    {
     "name": "stdout",
     "output_type": "stream",
     "text": [
      "[]\n"
     ]
    }
   ],
   "source": [
    "nan_val1 = []\n",
    "for i in train_data.columns:\n",
    "    if(train_data[i].isna().sum()>50):\n",
    "        nan_val1.append(i)\n",
    "print(nan_val1)"
   ]
  },
  {
   "cell_type": "code",
   "execution_count": 34,
   "metadata": {},
   "outputs": [],
   "source": [
    "import seaborn as sns"
   ]
  },
  {
   "cell_type": "code",
   "execution_count": 35,
   "metadata": {},
   "outputs": [
    {
     "name": "stdout",
     "output_type": "stream",
     "text": [
      "['MSZoning', 'Utilities', 'Exterior1st', 'Exterior2nd', 'BsmtFinSF1', 'BsmtFinSF2', 'BsmtUnfSF', 'TotalBsmtSF', 'BsmtFullBath', 'BsmtHalfBath', 'KitchenQual', 'Functional', 'GarageCars', 'GarageArea', 'SaleType']\n"
     ]
    }
   ],
   "source": [
    "nan_val1 = []\n",
    "for i in test_data.columns:\n",
    "    if(test_data[i].isnull().sum()>0):\n",
    "        nan_val1.append(i)\n",
    "print(nan_val1)"
   ]
  },
  {
   "cell_type": "code",
   "execution_count": 36,
   "metadata": {
    "scrolled": true
   },
   "outputs": [
    {
     "data": {
      "text/plain": [
       "Id               0.016570\n",
       "MSSubClass      -0.040110\n",
       "LotFrontage      0.285691\n",
       "LotArea          0.154871\n",
       "OverallQual      0.600671\n",
       "OverallCond     -0.185758\n",
       "YearBuilt        0.537850\n",
       "YearRemodAdd     0.420622\n",
       "MasVnrArea       0.361967\n",
       "BsmtFinSF1       0.224054\n",
       "BsmtFinSF2      -0.038264\n",
       "BsmtUnfSF        0.214175\n",
       "TotalBsmtSF      0.434585\n",
       "1stFlrSF         0.439317\n",
       "2ndFlrSF         0.183926\n",
       "LowQualFinSF    -0.094480\n",
       "GrLivArea        0.467247\n",
       "BsmtFullBath     0.131881\n",
       "BsmtHalfBath    -0.020891\n",
       "FullBath         0.469672\n",
       "HalfBath         0.219178\n",
       "BedroomAbvGr     0.086106\n",
       "KitchenAbvGr    -0.050634\n",
       "TotRmsAbvGrd     0.362289\n",
       "Fireplaces       0.300789\n",
       "GarageYrBlt      0.588920\n",
       "GarageCars       1.000000\n",
       "GarageArea       0.882475\n",
       "WoodDeckSF       0.226342\n",
       "OpenPorchSF      0.213569\n",
       "EnclosedPorch   -0.151434\n",
       "3SsnPorch        0.035765\n",
       "ScreenPorch      0.050494\n",
       "PoolArea         0.020934\n",
       "MiscVal         -0.043080\n",
       "MoSold           0.040522\n",
       "YrSold          -0.039117\n",
       "SalePrice        0.640409\n",
       "Name: GarageCars, dtype: float64"
      ]
     },
     "execution_count": 36,
     "metadata": {},
     "output_type": "execute_result"
    }
   ],
   "source": [
    "re['GarageCars']"
   ]
  },
  {
   "cell_type": "code",
   "execution_count": 37,
   "metadata": {},
   "outputs": [],
   "source": [
    "train_data['GarageArea'].fillna(0,inplace = True)\n",
    "test_data['GarageArea'].fillna(0,inplace = True)"
   ]
  },
  {
   "cell_type": "code",
   "execution_count": 38,
   "metadata": {},
   "outputs": [
    {
     "name": "stdout",
     "output_type": "stream",
     "text": [
      "GarageArea\n",
      "0.0       0.0\n",
      "100.0     1.0\n",
      "160.0     1.0\n",
      "162.0     1.0\n",
      "164.0     1.0\n",
      "180.0     1.0\n",
      "184.0     1.0\n",
      "185.0     1.0\n",
      "195.0     1.0\n",
      "200.0     1.0\n",
      "205.0     1.0\n",
      "207.0     1.0\n",
      "209.0     1.0\n",
      "210.0     1.0\n",
      "215.0     1.0\n",
      "216.0     1.0\n",
      "217.0     1.0\n",
      "220.0     1.0\n",
      "224.0     1.0\n",
      "225.0     1.0\n",
      "226.0     1.0\n",
      "228.0     1.0\n",
      "230.0     1.0\n",
      "231.0     1.0\n",
      "234.0     1.0\n",
      "240.0     1.0\n",
      "242.0     1.0\n",
      "246.0     1.0\n",
      "249.0     1.0\n",
      "250.0     1.0\n",
      "         ... \n",
      "932.0     3.0\n",
      "933.0     3.0\n",
      "938.0     3.0\n",
      "944.0     2.0\n",
      "949.0     3.0\n",
      "958.0     3.0\n",
      "959.0     3.0\n",
      "962.0     3.0\n",
      "963.0     3.0\n",
      "972.0     3.0\n",
      "984.0     3.0\n",
      "1003.0    3.0\n",
      "1008.0    3.0\n",
      "1017.0    4.0\n",
      "1040.0    3.0\n",
      "1041.0    4.0\n",
      "1085.0    3.0\n",
      "1092.0    3.0\n",
      "1105.0    2.0\n",
      "1110.0    3.0\n",
      "1138.0    3.0\n",
      "1150.0    4.0\n",
      "1154.0    3.0\n",
      "1174.0    3.0\n",
      "1184.0    5.0\n",
      "1200.0    3.0\n",
      "1231.0    3.0\n",
      "1314.0    4.0\n",
      "1348.0    3.0\n",
      "1488.0    4.0\n",
      "Name: GarageCars, Length: 459, dtype: float64 GarageArea\n",
      "0.0       0.0\n",
      "100.0     1.0\n",
      "160.0     1.0\n",
      "162.0     1.0\n",
      "164.0     1.0\n",
      "180.0     1.0\n",
      "184.0     1.0\n",
      "185.0     1.0\n",
      "195.0     1.0\n",
      "200.0     1.0\n",
      "205.0     1.0\n",
      "207.0     1.0\n",
      "209.0     1.0\n",
      "210.0     1.0\n",
      "215.0     1.0\n",
      "216.0     1.0\n",
      "217.0     1.0\n",
      "220.0     1.0\n",
      "224.0     1.0\n",
      "225.0     1.0\n",
      "226.0     1.0\n",
      "228.0     1.0\n",
      "230.0     1.0\n",
      "231.0     1.0\n",
      "234.0     1.0\n",
      "240.0     1.0\n",
      "242.0     1.0\n",
      "246.0     1.0\n",
      "249.0     1.0\n",
      "250.0     1.0\n",
      "         ... \n",
      "932.0     3.0\n",
      "933.0     3.0\n",
      "938.0     3.0\n",
      "944.0     3.0\n",
      "949.0     3.0\n",
      "958.0     3.0\n",
      "959.0     3.0\n",
      "962.0     3.0\n",
      "963.0     3.0\n",
      "972.0     3.0\n",
      "984.0     3.0\n",
      "1003.0    3.0\n",
      "1008.0    3.0\n",
      "1017.0    4.0\n",
      "1040.0    3.0\n",
      "1041.0    4.0\n",
      "1085.0    3.0\n",
      "1092.0    3.0\n",
      "1105.0    2.0\n",
      "1110.0    3.0\n",
      "1138.0    3.0\n",
      "1150.0    4.0\n",
      "1154.0    3.0\n",
      "1174.0    3.0\n",
      "1184.0    5.0\n",
      "1200.0    3.0\n",
      "1231.0    3.0\n",
      "1314.0    4.0\n",
      "1348.0    3.0\n",
      "1488.0    4.0\n",
      "Name: GarageCars, Length: 459, dtype: float64 GarageArea\n",
      "0.0       0.0\n",
      "100.0     1.0\n",
      "160.0     1.0\n",
      "162.0     1.0\n",
      "164.0     1.0\n",
      "180.0     1.0\n",
      "184.0     1.0\n",
      "185.0     1.0\n",
      "195.0     1.0\n",
      "200.0     1.0\n",
      "205.0     1.0\n",
      "207.0     1.0\n",
      "209.0     1.0\n",
      "210.0     1.0\n",
      "215.0     1.0\n",
      "216.0     1.0\n",
      "217.0     1.0\n",
      "220.0     1.0\n",
      "224.0     1.0\n",
      "225.0     1.0\n",
      "226.0     1.0\n",
      "228.0     1.0\n",
      "230.0     1.0\n",
      "231.0     1.0\n",
      "234.0     1.0\n",
      "240.0     1.0\n",
      "242.0     1.0\n",
      "246.0     1.0\n",
      "249.0     1.0\n",
      "250.0     1.0\n",
      "         ... \n",
      "932.0     3.0\n",
      "933.0     3.0\n",
      "938.0     3.0\n",
      "944.0     2.5\n",
      "949.0     3.0\n",
      "958.0     3.0\n",
      "959.0     3.0\n",
      "962.0     3.0\n",
      "963.0     3.0\n",
      "972.0     3.0\n",
      "984.0     3.0\n",
      "1003.0    3.0\n",
      "1008.0    3.0\n",
      "1017.0    4.0\n",
      "1040.0    3.0\n",
      "1041.0    4.0\n",
      "1085.0    3.0\n",
      "1092.0    3.0\n",
      "1105.0    2.0\n",
      "1110.0    3.0\n",
      "1138.0    3.0\n",
      "1150.0    4.0\n",
      "1154.0    3.0\n",
      "1174.0    3.0\n",
      "1184.0    5.0\n",
      "1200.0    3.0\n",
      "1231.0    3.0\n",
      "1314.0    4.0\n",
      "1348.0    3.0\n",
      "1488.0    4.0\n",
      "Name: GarageCars, Length: 459, dtype: float64\n"
     ]
    }
   ],
   "source": [
    "a=(test_data.groupby('GarageArea')['GarageCars'].min())\n",
    "b=(test_data.groupby('GarageArea')['GarageCars'].max())\n",
    "c=(test_data.groupby('GarageArea')['GarageCars'].mean())\n",
    "print(a,b,c)\n",
    "#sns.distplot(test_data['GarageArea'])"
   ]
  },
  {
   "cell_type": "code",
   "execution_count": 39,
   "metadata": {},
   "outputs": [],
   "source": [
    "test_data['GarageCars'].fillna(test_data.groupby('GarageArea')['GarageCars'].transform('mean'),inplace = True)"
   ]
  },
  {
   "cell_type": "code",
   "execution_count": 40,
   "metadata": {},
   "outputs": [
    {
     "name": "stdout",
     "output_type": "stream",
     "text": [
      "['MSZoning', 'Utilities', 'Exterior1st', 'Exterior2nd', 'BsmtFinSF1', 'BsmtFinSF2', 'BsmtUnfSF', 'TotalBsmtSF', 'BsmtFullBath', 'BsmtHalfBath', 'KitchenQual', 'Functional', 'SaleType']\n"
     ]
    }
   ],
   "source": [
    "nan_val1 = []\n",
    "for i in test_data.columns:\n",
    "    if(test_data[i].isna().sum()>0):\n",
    "        nan_val1.append(i)\n",
    "print(nan_val1)"
   ]
  },
  {
   "cell_type": "code",
   "execution_count": 41,
   "metadata": {},
   "outputs": [],
   "source": [
    "test_data.Exterior1st.fillna(test_data.Exterior1st.mode()[0],inplace = True)\n"
   ]
  },
  {
   "cell_type": "code",
   "execution_count": 42,
   "metadata": {},
   "outputs": [
    {
     "name": "stdout",
     "output_type": "stream",
     "text": [
      "['MSZoning', 'Utilities', 'BsmtFinSF1', 'BsmtFinSF2', 'BsmtUnfSF', 'TotalBsmtSF', 'BsmtFullBath', 'BsmtHalfBath', 'KitchenQual', 'Functional', 'SaleType']\n"
     ]
    }
   ],
   "source": [
    "test_data.Exterior2nd.fillna(test_data.Exterior2nd.mode()[0],inplace = True)\n",
    "nan_val1 = []\n",
    "for i in test_data.columns:\n",
    "    if(test_data[i].isna().sum()>0):\n",
    "        nan_val1.append(i)\n",
    "print(nan_val1)"
   ]
  },
  {
   "cell_type": "code",
   "execution_count": 43,
   "metadata": {},
   "outputs": [],
   "source": [
    "(test_data.BsmtFinSF1.fillna(0,inplace = True))\n",
    "(test_data.BsmtFinSF2.fillna(0,inplace = True))"
   ]
  },
  {
   "cell_type": "code",
   "execution_count": 44,
   "metadata": {},
   "outputs": [
    {
     "name": "stdout",
     "output_type": "stream",
     "text": [
      "['MSZoning', 'Utilities', 'BsmtUnfSF', 'TotalBsmtSF', 'BsmtFullBath', 'BsmtHalfBath', 'KitchenQual', 'Functional', 'SaleType']\n"
     ]
    }
   ],
   "source": [
    "nan_val1 = []\n",
    "for i in test_data.columns:\n",
    "    if(test_data[i].isna().sum()>0):\n",
    "        nan_val1.append(i)\n",
    "print(nan_val1)"
   ]
  },
  {
   "cell_type": "code",
   "execution_count": 45,
   "metadata": {},
   "outputs": [
    {
     "data": {
      "text/plain": [
       "TA    758\n",
       "Gd    565\n",
       "Ex    105\n",
       "Fa     31\n",
       "Name: KitchenQual, dtype: int64"
      ]
     },
     "execution_count": 45,
     "metadata": {},
     "output_type": "execute_result"
    }
   ],
   "source": [
    "test_data.KitchenQual.fillna(test_data.KitchenQual.mode()[0],inplace = True)\n",
    "test_data.KitchenQual.value_counts()"
   ]
  },
  {
   "cell_type": "code",
   "execution_count": 46,
   "metadata": {},
   "outputs": [
    {
     "data": {
      "text/plain": [
       "0"
      ]
     },
     "execution_count": 46,
     "metadata": {},
     "output_type": "execute_result"
    }
   ],
   "source": [
    "test_data.MSZoning.fillna(test_data.MSZoning.mode()[0],inplace = True)\n",
    "test_data.MSZoning.isna().sum()"
   ]
  },
  {
   "cell_type": "code",
   "execution_count": 47,
   "metadata": {},
   "outputs": [
    {
     "name": "stdout",
     "output_type": "stream",
     "text": [
      "['Utilities', 'BsmtUnfSF', 'TotalBsmtSF', 'BsmtFullBath', 'BsmtHalfBath', 'Functional', 'SaleType']\n"
     ]
    }
   ],
   "source": [
    "nan_val1 = []\n",
    "for i in test_data.columns:\n",
    "    if(test_data[i].isna().sum()>0):\n",
    "        nan_val1.append(i)\n",
    "print(nan_val1)"
   ]
  },
  {
   "cell_type": "code",
   "execution_count": 48,
   "metadata": {},
   "outputs": [
    {
     "name": "stdout",
     "output_type": "stream",
     "text": [
      "['BsmtUnfSF', 'TotalBsmtSF', 'BsmtFullBath', 'BsmtHalfBath', 'Functional', 'SaleType']\n"
     ]
    }
   ],
   "source": [
    "test_data.Utilities.fillna(\"AllPub\",inplace = True)\n",
    "nan_val1 = []\n",
    "for i in test_data.columns:\n",
    "    if(test_data[i].isna().sum()>0):\n",
    "        nan_val1.append(i)\n",
    "print(nan_val1)"
   ]
  },
  {
   "cell_type": "code",
   "execution_count": 49,
   "metadata": {},
   "outputs": [
    {
     "name": "stdout",
     "output_type": "stream",
     "text": [
      "['BsmtUnfSF', 'BsmtFullBath', 'BsmtHalfBath', 'SaleType']\n"
     ]
    }
   ],
   "source": [
    "test_data.TotalBsmtSF.fillna(test_data.TotalBsmtSF.mean(),inplace = True)\n",
    "test_data.Functional.fillna(\"Typ\",inplace = True)\n",
    "nan_val1 = []\n",
    "for i in test_data.columns:\n",
    "    if(test_data[i].isna().sum()>0):\n",
    "        nan_val1.append(i)\n",
    "print(nan_val1)"
   ]
  },
  {
   "cell_type": "code",
   "execution_count": 50,
   "metadata": {},
   "outputs": [
    {
     "name": "stdout",
     "output_type": "stream",
     "text": [
      "554.2949245541838\n",
      "['BsmtFullBath', 'BsmtHalfBath', 'SaleType']\n"
     ]
    }
   ],
   "source": [
    "print(test_data.BsmtUnfSF.mean())\n",
    "test_data.BsmtUnfSF.fillna(0,inplace= True)\n",
    "nan_val1 = []\n",
    "for i in test_data.columns:\n",
    "    if(test_data[i].isna().sum()>0):\n",
    "        nan_val1.append(i)\n",
    "print(nan_val1)"
   ]
  },
  {
   "cell_type": "code",
   "execution_count": 51,
   "metadata": {},
   "outputs": [],
   "source": [
    "test_data.BsmtHalfBath.fillna(0.0,inplace = True)\n",
    "test_data.BsmtFullBath.fillna(0.0,inplace=True)\n",
    "test_data.SaleType.fillna(test_data.SaleType.mode()[0],inplace=True)"
   ]
  },
  {
   "cell_type": "code",
   "execution_count": 52,
   "metadata": {},
   "outputs": [
    {
     "name": "stdout",
     "output_type": "stream",
     "text": [
      "[]\n"
     ]
    }
   ],
   "source": [
    "nan_val1 = []\n",
    "for i in train_data.columns:\n",
    "    if(train_data[i].isna().sum()>0):\n",
    "        nan_val1.append(i)\n",
    "print(nan_val1)"
   ]
  },
  {
   "cell_type": "code",
   "execution_count": 53,
   "metadata": {},
   "outputs": [
    {
     "data": {
      "text/plain": [
       "39"
      ]
     },
     "execution_count": 53,
     "metadata": {},
     "output_type": "execute_result"
    }
   ],
   "source": [
    "colsn=[]  \n",
    "for i in test_data.columns:\n",
    "    if(test_data[i].dtype == 'object'):\n",
    "        colsn.append(i)\n",
    "len(colsn)\n"
   ]
  },
  {
   "cell_type": "code",
   "execution_count": 54,
   "metadata": {},
   "outputs": [
    {
     "data": {
      "text/plain": [
       "(1459, 76)"
      ]
     },
     "execution_count": 54,
     "metadata": {},
     "output_type": "execute_result"
    }
   ],
   "source": [
    "test_data.shape"
   ]
  },
  {
   "cell_type": "code",
   "execution_count": 55,
   "metadata": {},
   "outputs": [
    {
     "data": {
      "text/plain": [
       "(1460, 77)"
      ]
     },
     "execution_count": 55,
     "metadata": {},
     "output_type": "execute_result"
    }
   ],
   "source": [
    "train_data.shape"
   ]
  },
  {
   "cell_type": "markdown",
   "metadata": {},
   "source": [
    "## Encoding"
   ]
  },
  {
   "cell_type": "code",
   "execution_count": 56,
   "metadata": {},
   "outputs": [],
   "source": [
    "from sklearn import preprocessing"
   ]
  },
  {
   "cell_type": "code",
   "execution_count": 57,
   "metadata": {},
   "outputs": [
    {
     "data": {
      "text/plain": [
       "(2919, 77)"
      ]
     },
     "execution_count": 57,
     "metadata": {},
     "output_type": "execute_result"
    }
   ],
   "source": [
    "train_copy = train_data.copy()\n",
    "test_copy = test_data.copy()\n",
    "enc = pd.concat([train_copy,test_copy],sort = False)\n",
    "enc.shape"
   ]
  },
  {
   "cell_type": "code",
   "execution_count": 58,
   "metadata": {},
   "outputs": [
    {
     "data": {
      "text/plain": [
       "\"l = ['a','b','s','a']\\nle = preprocessing.LabelEncoder()\\nle.fit(l)\\nlist(le.transform(l))\\nl = []\\nfor i in test_data['SaleType']:\\n    l.append(i)\\ny = list(le.fit_transform(l))\""
      ]
     },
     "execution_count": 58,
     "metadata": {},
     "output_type": "execute_result"
    }
   ],
   "source": [
    "\"\"\"l = ['a','b','s','a']\n",
    "le = preprocessing.LabelEncoder()\n",
    "le.fit(l)\n",
    "list(le.transform(l))\n",
    "l = []\n",
    "for i in test_data['SaleType']:\n",
    "    l.append(i)\n",
    "y = list(le.fit_transform(l))\"\"\""
   ]
  },
  {
   "cell_type": "code",
   "execution_count": 59,
   "metadata": {},
   "outputs": [],
   "source": [
    "le = preprocessing.LabelEncoder()\n",
    "for i in colsn:\n",
    "    v =[]\n",
    "    for j in enc[i]:\n",
    "        v.append(j)\n",
    "    \n",
    "    enc[i].replace(v,list(le.fit_transform(v)),inplace = True)"
   ]
  },
  {
   "cell_type": "code",
   "execution_count": 60,
   "metadata": {},
   "outputs": [
    {
     "data": {
      "text/plain": [
       "Id                 int64\n",
       "MSSubClass         int64\n",
       "MSZoning           int64\n",
       "LotFrontage      float64\n",
       "LotArea            int64\n",
       "Street             int64\n",
       "LotShape           int64\n",
       "LandContour        int64\n",
       "Utilities          int64\n",
       "LotConfig          int64\n",
       "LandSlope          int64\n",
       "Neighborhood       int64\n",
       "Condition1         int64\n",
       "Condition2         int64\n",
       "BldgType           int64\n",
       "HouseStyle         int64\n",
       "OverallQual        int64\n",
       "OverallCond        int64\n",
       "YearBuilt          int64\n",
       "YearRemodAdd       int64\n",
       "RoofStyle          int64\n",
       "RoofMatl           int64\n",
       "Exterior1st        int64\n",
       "Exterior2nd        int64\n",
       "MasVnrType         int64\n",
       "MasVnrArea       float64\n",
       "ExterQual          int64\n",
       "ExterCond          int64\n",
       "Foundation         int64\n",
       "BsmtQual           int64\n",
       "                  ...   \n",
       "BsmtHalfBath     float64\n",
       "FullBath           int64\n",
       "HalfBath           int64\n",
       "BedroomAbvGr       int64\n",
       "KitchenAbvGr       int64\n",
       "KitchenQual        int64\n",
       "TotRmsAbvGrd       int64\n",
       "Functional         int64\n",
       "Fireplaces         int64\n",
       "FireplaceQu        int64\n",
       "GarageType         int64\n",
       "GarageYrBlt      float64\n",
       "GarageFinish       int64\n",
       "GarageCars       float64\n",
       "GarageArea       float64\n",
       "GarageQual         int64\n",
       "GarageCond         int64\n",
       "PavedDrive         int64\n",
       "WoodDeckSF         int64\n",
       "OpenPorchSF        int64\n",
       "EnclosedPorch      int64\n",
       "3SsnPorch          int64\n",
       "ScreenPorch        int64\n",
       "PoolArea           int64\n",
       "MiscVal            int64\n",
       "MoSold             int64\n",
       "YrSold             int64\n",
       "SaleType           int64\n",
       "SaleCondition      int64\n",
       "SalePrice        float64\n",
       "Length: 77, dtype: object"
      ]
     },
     "execution_count": 60,
     "metadata": {},
     "output_type": "execute_result"
    }
   ],
   "source": [
    "enc.dtypes"
   ]
  },
  {
   "cell_type": "code",
   "execution_count": 61,
   "metadata": {},
   "outputs": [],
   "source": [
    "train_df = enc.iloc[:1460, :]\n",
    "test_df = enc.iloc[1460:,:]"
   ]
  },
  {
   "cell_type": "code",
   "execution_count": 62,
   "metadata": {},
   "outputs": [
    {
     "data": {
      "text/plain": [
       "(1460, 77)"
      ]
     },
     "execution_count": 62,
     "metadata": {},
     "output_type": "execute_result"
    }
   ],
   "source": [
    "train_df.shape"
   ]
  },
  {
   "cell_type": "code",
   "execution_count": 63,
   "metadata": {},
   "outputs": [
    {
     "name": "stderr",
     "output_type": "stream",
     "text": [
      "C:\\ProgramData\\Anaconda3\\lib\\site-packages\\pandas\\core\\frame.py:3940: SettingWithCopyWarning: \n",
      "A value is trying to be set on a copy of a slice from a DataFrame\n",
      "\n",
      "See the caveats in the documentation: http://pandas.pydata.org/pandas-docs/stable/indexing.html#indexing-view-versus-copy\n",
      "  errors=errors)\n"
     ]
    }
   ],
   "source": [
    "test_df.drop('SalePrice',axis = 1,inplace = True)"
   ]
  },
  {
   "cell_type": "code",
   "execution_count": 64,
   "metadata": {},
   "outputs": [
    {
     "data": {
      "text/plain": [
       "Id               0\n",
       "MSSubClass       0\n",
       "MSZoning         0\n",
       "LotFrontage      0\n",
       "LotArea          0\n",
       "Street           0\n",
       "LotShape         0\n",
       "LandContour      0\n",
       "Utilities        0\n",
       "LotConfig        0\n",
       "LandSlope        0\n",
       "Neighborhood     0\n",
       "Condition1       0\n",
       "Condition2       0\n",
       "BldgType         0\n",
       "HouseStyle       0\n",
       "OverallQual      0\n",
       "OverallCond      0\n",
       "YearBuilt        0\n",
       "YearRemodAdd     0\n",
       "RoofStyle        0\n",
       "RoofMatl         0\n",
       "Exterior1st      0\n",
       "Exterior2nd      0\n",
       "MasVnrType       0\n",
       "MasVnrArea       0\n",
       "ExterQual        0\n",
       "ExterCond        0\n",
       "Foundation       0\n",
       "BsmtQual         0\n",
       "                ..\n",
       "BsmtFullBath     0\n",
       "BsmtHalfBath     0\n",
       "FullBath         0\n",
       "HalfBath         0\n",
       "BedroomAbvGr     0\n",
       "KitchenAbvGr     0\n",
       "KitchenQual      0\n",
       "TotRmsAbvGrd     0\n",
       "Functional       0\n",
       "Fireplaces       0\n",
       "FireplaceQu      0\n",
       "GarageType       0\n",
       "GarageYrBlt      0\n",
       "GarageFinish     0\n",
       "GarageCars       0\n",
       "GarageArea       0\n",
       "GarageQual       0\n",
       "GarageCond       0\n",
       "PavedDrive       0\n",
       "WoodDeckSF       0\n",
       "OpenPorchSF      0\n",
       "EnclosedPorch    0\n",
       "3SsnPorch        0\n",
       "ScreenPorch      0\n",
       "PoolArea         0\n",
       "MiscVal          0\n",
       "MoSold           0\n",
       "YrSold           0\n",
       "SaleType         0\n",
       "SaleCondition    0\n",
       "Length: 76, dtype: int64"
      ]
     },
     "execution_count": 64,
     "metadata": {},
     "output_type": "execute_result"
    }
   ],
   "source": [
    "test_df.isna().sum()"
   ]
  },
  {
   "cell_type": "code",
   "execution_count": 65,
   "metadata": {},
   "outputs": [],
   "source": [
    "from sklearn.ensemble import RandomForestRegressor\n",
    "import xgboost\n",
    "from sklearn import linear_model\n",
    "xtrain = train_df.drop(['SalePrice'],axis = 1)\n",
    "ytrain = train_df['SalePrice']"
   ]
  },
  {
   "cell_type": "code",
   "execution_count": 66,
   "metadata": {},
   "outputs": [
    {
     "data": {
      "text/plain": [
       "array([125613.63555556, 154993.33      , 178984.83888889, ...,\n",
       "       149783.16      , 111126.21      , 230183.62222222])"
      ]
     },
     "execution_count": 66,
     "metadata": {},
     "output_type": "execute_result"
    }
   ],
   "source": [
    "rfc = RandomForestRegressor(n_estimators=900)\n",
    "rfc.fit(xtrain,ytrain)\n",
    "y_pred = rfc.predict(test_df)\n",
    "y_pred"
   ]
  },
  {
   "cell_type": "code",
   "execution_count": 73,
   "metadata": {},
   "outputs": [
    {
     "name": "stdout",
     "output_type": "stream",
     "text": [
      "Fitting 5 folds for each of 50 candidates, totalling 250 fits\n"
     ]
    },
    {
     "name": "stderr",
     "output_type": "stream",
     "text": [
      "[Parallel(n_jobs=4)]: Using backend LokyBackend with 4 concurrent workers.\n",
      "[Parallel(n_jobs=4)]: Done  10 tasks      | elapsed:   41.1s\n",
      "[Parallel(n_jobs=4)]: Done  64 tasks      | elapsed:  3.0min\n",
      "[Parallel(n_jobs=4)]: Done 154 tasks      | elapsed:  5.7min\n",
      "[Parallel(n_jobs=4)]: Done 250 out of 250 | elapsed:  8.9min finished\n",
      "C:\\ProgramData\\Anaconda3\\lib\\site-packages\\xgboost\\core.py:587: FutureWarning: Series.base is deprecated and will be removed in a future version\n",
      "  if getattr(data, 'base', None) is not None and \\\n",
      "C:\\ProgramData\\Anaconda3\\lib\\site-packages\\xgboost\\core.py:588: FutureWarning: Series.base is deprecated and will be removed in a future version\n",
      "  data.base is not None and isinstance(data, np.ndarray) \\\n"
     ]
    },
    {
     "name": "stdout",
     "output_type": "stream",
     "text": [
      "[00:03:35] WARNING: C:/Jenkins/workspace/xgboost-win64_release_0.90/src/objective/regression_obj.cu:152: reg:linear is now deprecated in favor of reg:squarederror.\n"
     ]
    },
    {
     "data": {
      "text/plain": [
       "RandomizedSearchCV(cv=5, error_score='raise-deprecating',\n",
       "                   estimator=XGBRegressor(base_score=0.5, booster='gbtree',\n",
       "                                          colsample_bylevel=1,\n",
       "                                          colsample_bynode=1,\n",
       "                                          colsample_bytree=1, gamma=0,\n",
       "                                          importance_type='gain',\n",
       "                                          learning_rate=0.1, max_delta_step=0,\n",
       "                                          max_depth=3, min_child_weight=1,\n",
       "                                          missing=None, n_estimators=100,\n",
       "                                          n_jobs=1, nthread=None,\n",
       "                                          objective='reg:linear',\n",
       "                                          random_st...\n",
       "                   iid='warn', n_iter=50, n_jobs=4,\n",
       "                   param_distributions={'base_score': [0.25, 0.5, 0.75, 1],\n",
       "                                        'booster': ['gbtree', 'gblinear'],\n",
       "                                        'learning_rate': [0.05, 0.1, 0.15, 0.2],\n",
       "                                        'max_depth': [2, 3, 5, 10, 15],\n",
       "                                        'min_child_weight': [1, 2, 3, 4],\n",
       "                                        'n_estimators': [100, 500, 900, 1100,\n",
       "                                                         1500]},\n",
       "                   pre_dispatch='2*n_jobs', random_state=42, refit=True,\n",
       "                   return_train_score=True, scoring='neg_mean_absolute_error',\n",
       "                   verbose=5)"
      ]
     },
     "execution_count": 73,
     "metadata": {},
     "output_type": "execute_result"
    }
   ],
   "source": [
    "import xgboost\n",
    "regressor=xgboost.XGBRegressor()\n",
    "\n",
    "\n",
    "from sklearn.model_selection import RandomizedSearchCV\n",
    "\n",
    "\n",
    "booster=['gbtree','gblinear']\n",
    "base_score=[0.25,0.5,0.75,1]\n",
    "n_estimators = [100, 500, 900, 1100, 1500]\n",
    "max_depth = [2, 3, 5, 10, 15]\n",
    "booster=['gbtree','gblinear']\n",
    "learning_rate=[0.05,0.1,0.15,0.20]\n",
    "min_child_weight=[1,2,3,4]\n",
    "\n",
    "# Define the grid of hyperparameters to search\n",
    "hyperparameter_grid = {\n",
    "    'n_estimators': n_estimators,\n",
    "    'max_depth':max_depth,\n",
    "    'learning_rate':learning_rate,\n",
    "    'min_child_weight':min_child_weight,\n",
    "    'booster':booster,\n",
    "    'base_score':base_score\n",
    "    }\n",
    "random_cv = RandomizedSearchCV(estimator=regressor,\n",
    "            param_distributions=hyperparameter_grid,\n",
    "            cv=5, n_iter=50,\n",
    "            scoring = 'neg_mean_absolute_error',n_jobs = 4,\n",
    "            verbose = 5, \n",
    "            return_train_score = True,\n",
    "            random_state=42)\n",
    "random_cv.fit(xtrain,ytrain)"
   ]
  },
  {
   "cell_type": "code",
   "execution_count": null,
   "metadata": {},
   "outputs": [
    {
     "name": "stdout",
     "output_type": "stream",
     "text": [
      "Fitting 2 folds for each of 3200 candidates, totalling 6400 fits\n"
     ]
    },
    {
     "name": "stderr",
     "output_type": "stream",
     "text": [
      "[Parallel(n_jobs=100)]: Using backend LokyBackend with 100 concurrent workers.\n",
      "Exception in thread QueueManagerThread:\n",
      "Traceback (most recent call last):\n",
      "  File \"C:\\ProgramData\\Anaconda3\\lib\\threading.py\", line 917, in _bootstrap_inner\n",
      "    self.run()\n",
      "  File \"C:\\ProgramData\\Anaconda3\\lib\\threading.py\", line 865, in run\n",
      "    self._target(*self._args, **self._kwargs)\n",
      "  File \"C:\\ProgramData\\Anaconda3\\lib\\site-packages\\joblib\\externals\\loky\\process_executor.py\", line 615, in _queue_management_worker\n",
      "    ready = wait(readers + worker_sentinels)\n",
      "  File \"C:\\ProgramData\\Anaconda3\\lib\\multiprocessing\\connection.py\", line 868, in wait\n",
      "    ready_handles = _exhaustive_wait(waithandle_to_obj.keys(), timeout)\n",
      "  File \"C:\\ProgramData\\Anaconda3\\lib\\multiprocessing\\connection.py\", line 800, in _exhaustive_wait\n",
      "    res = _winapi.WaitForMultipleObjects(L, False, timeout)\n",
      "ValueError: need at most 63 handles, got a sequence of length 101\n",
      "\n"
     ]
    }
   ],
   "source": [
    "from sklearn.model_selection import GridSearchCV\n",
    "grid_cv = GridSearchCV(estimator=regressor,\n",
    "            param_grid=hyperparameter_grid,\n",
    "            cv=2, \n",
    "            scoring = 'neg_mean_absolute_error',n_jobs = 100,\n",
    "            verbose = 5, \n",
    "            return_train_score = True,\n",
    "            )\n",
    "grid_cv.fit(xtrain,ytrain)"
   ]
  },
  {
   "cell_type": "code",
   "execution_count": 75,
   "metadata": {},
   "outputs": [
    {
     "data": {
      "text/plain": [
       "XGBRegressor(base_score=1, booster='gbtree', colsample_bylevel=1,\n",
       "             colsample_bynode=1, colsample_bytree=1, gamma=0,\n",
       "             importance_type='gain', learning_rate=0.1, max_delta_step=0,\n",
       "             max_depth=3, min_child_weight=4, missing=None, n_estimators=1100,\n",
       "             n_jobs=1, nthread=None, objective='reg:linear', random_state=0,\n",
       "             reg_alpha=0, reg_lambda=1, scale_pos_weight=1, seed=None,\n",
       "             silent=None, subsample=1, verbosity=1)"
      ]
     },
     "execution_count": 75,
     "metadata": {},
     "output_type": "execute_result"
    }
   ],
   "source": [
    "random_cv.best_estimator_"
   ]
  },
  {
   "cell_type": "code",
   "execution_count": 76,
   "metadata": {},
   "outputs": [
    {
     "name": "stdout",
     "output_type": "stream",
     "text": [
      "[00:04:28] WARNING: C:/Jenkins/workspace/xgboost-win64_release_0.90/src/objective/regression_obj.cu:152: reg:linear is now deprecated in favor of reg:squarederror.\n"
     ]
    },
    {
     "data": {
      "text/plain": [
       "array([126797.05, 170231.19, 185010.52, ..., 169372.16, 105955.24,\n",
       "       228982.03], dtype=float32)"
      ]
     },
     "execution_count": 76,
     "metadata": {},
     "output_type": "execute_result"
    }
   ],
   "source": [
    "cl = xgboost.XGBRegressor(base_score=1, booster='gbtree', colsample_bylevel=1,\n",
    "             colsample_bynode=1, colsample_bytree=1, gamma=0,\n",
    "             importance_type='gain', learning_rate=0.1, max_delta_step=0,\n",
    "             max_depth=3, min_child_weight=4, missing=None, n_estimators=1100,\n",
    "             n_jobs=1, nthread=None, objective='reg:linear', random_state=0,\n",
    "             reg_alpha=0, reg_lambda=1, scale_pos_weight=1, seed=None,\n",
    "             silent=None, subsample=1, verbosity=1)\n",
    "cl.fit(xtrain,ytrain)\n",
    "y_pred2 = cl.predict(test_df)\n",
    "y_pred2"
   ]
  },
  {
   "cell_type": "code",
   "execution_count": 68,
   "metadata": {},
   "outputs": [
    {
     "data": {
      "text/plain": [
       "array([123316.93647982, 171395.2416    , 184131.82334646, ...,\n",
       "       159502.63592388, 142187.72185643, 263099.45859851])"
      ]
     },
     "execution_count": 68,
     "metadata": {},
     "output_type": "execute_result"
    }
   ],
   "source": [
    "#Linear Regression\n",
    "lm = linear_model.LinearRegression()\n",
    "model = lm.fit(xtrain,ytrain)\n",
    "y_pred3 = lm.predict(test_df)\n",
    "y_pred3+20000"
   ]
  },
  {
   "cell_type": "code",
   "execution_count": 1,
   "metadata": {},
   "outputs": [],
   "source": [
    "#for i in colsn:\n",
    " #   print(train_df[i].value_counts())"
   ]
  },
  {
   "cell_type": "code",
   "execution_count": 78,
   "metadata": {},
   "outputs": [],
   "source": [
    "subb = pd.DataFrame({\n",
    "        \"Id\": test_df[\"Id\"],\n",
    "        \"SalePrice\": y_pred2\n",
    "    })\n",
    "subb.to_csv('house_pricev1.csv', index=False)"
   ]
  },
  {
   "cell_type": "code",
   "execution_count": 71,
   "metadata": {},
   "outputs": [],
   "source": [
    "#remove utilities "
   ]
  },
  {
   "cell_type": "code",
   "execution_count": null,
   "metadata": {},
   "outputs": [],
   "source": []
  }
 ],
 "metadata": {
  "kernelspec": {
   "display_name": "Python 3",
   "language": "python",
   "name": "python3"
  },
  "language_info": {
   "codemirror_mode": {
    "name": "ipython",
    "version": 3
   },
   "file_extension": ".py",
   "mimetype": "text/x-python",
   "name": "python",
   "nbconvert_exporter": "python",
   "pygments_lexer": "ipython3",
   "version": "3.7.0"
  }
 },
 "nbformat": 4,
 "nbformat_minor": 2
}
